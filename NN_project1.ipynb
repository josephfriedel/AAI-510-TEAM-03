{
  "nbformat": 4,
  "nbformat_minor": 0,
  "metadata": {
    "colab": {
      "provenance": [],
      "mount_file_id": "1E7sl6RRg1mJGW1aaca1wrtQ5ghSLkBcf",
      "authorship_tag": "ABX9TyNBiT+Jh5sI2d222I2vAND1",
      "include_colab_link": true
    },
    "kernelspec": {
      "name": "python3",
      "display_name": "Python 3"
    },
    "language_info": {
      "name": "python"
    }
  },
  "cells": [
    {
      "cell_type": "markdown",
      "metadata": {
        "id": "view-in-github",
        "colab_type": "text"
      },
      "source": [
        "<a href=\"https://colab.research.google.com/github/josephfriedel/AAI-510-TEAM-03/blob/main/NN_project1.ipynb\" target=\"_parent\"><img src=\"https://colab.research.google.com/assets/colab-badge.svg\" alt=\"Open In Colab\"/></a>"
      ]
    },
    {
      "cell_type": "code",
      "execution_count": 12,
      "metadata": {
        "colab": {
          "base_uri": "https://localhost:8080/"
        },
        "id": "_SsGs2hv9jdK",
        "outputId": "0ec25a56-ff39-4db2-98ff-df43aa31d626"
      },
      "outputs": [
        {
          "output_type": "stream",
          "name": "stdout",
          "text": [
            "MIDI files have been balanced within each composer's subfolders.\n"
          ]
        }
      ],
      "source": [
        "import os\n",
        "import shutil\n",
        "from itertools import cycle\n",
        "\n",
        "# Define the root directory\n",
        "root_dir = 'midifiles'\n",
        "\n",
        "# Function to get a new file name if the target already exists\n",
        "def get_unique_file_name(target_folder, file_name):\n",
        "    base_name, extension = os.path.splitext(file_name)\n",
        "    counter = 1\n",
        "    new_file_name = file_name\n",
        "    while os.path.exists(os.path.join(target_folder, new_file_name)):\n",
        "        new_file_name = f\"{base_name}_{counter}{extension}\"\n",
        "        counter += 1\n",
        "    return new_file_name\n",
        "\n",
        "# Function to balance files within a composer's folder\n",
        "def balance_files_in_folder(composer_folder):\n",
        "    midi_files = []\n",
        "    subfolders = []\n",
        "\n",
        "    for subdir, dirs, files in os.walk(composer_folder):\n",
        "        for file in files:\n",
        "            if file.lower().endswith('.mid'):  # Check if the file is a MIDI file\n",
        "                midi_files.append(os.path.join(subdir, file))\n",
        "        for d in dirs:\n",
        "            subfolders.append(os.path.join(composer_folder, d))\n",
        "        break  # Only need the first level subdirectories\n",
        "\n",
        "    # Remove any empty subfolders from the list\n",
        "    subfolders = [folder for folder in subfolders if os.listdir(folder)]\n",
        "\n",
        "    # Distribute MIDI files evenly among the subfolders\n",
        "    if subfolders:\n",
        "        subfolder_cycle = cycle(subfolders)\n",
        "        for midi_file in midi_files:\n",
        "            target_subfolder = next(subfolder_cycle)\n",
        "            file_name = os.path.basename(midi_file)\n",
        "            unique_file_name = get_unique_file_name(target_subfolder, file_name)\n",
        "            shutil.move(midi_file, os.path.join(target_subfolder, unique_file_name))\n",
        "\n",
        "# Process each composer's folder\n",
        "for composer in os.listdir(root_dir):\n",
        "    composer_folder = os.path.join(root_dir, composer)\n",
        "    if os.path.isdir(composer_folder):\n",
        "        balance_files_in_folder(composer_folder)\n",
        "\n",
        "print(\"MIDI files have been balanced within each composer's subfolders.\")"
      ]
    },
    {
      "cell_type": "code",
      "source": [
        "!ls"
      ],
      "metadata": {
        "colab": {
          "base_uri": "https://localhost:8080/"
        },
        "id": "iO1pxtdS-wnL",
        "outputId": "b5dc9dbb-10b4-4308-de83-b688ec75249d"
      },
      "execution_count": 11,
      "outputs": [
        {
          "output_type": "stream",
          "name": "stdout",
          "text": [
            "drive  midifiles  sample_data\n"
          ]
        }
      ]
    }
  ]
}